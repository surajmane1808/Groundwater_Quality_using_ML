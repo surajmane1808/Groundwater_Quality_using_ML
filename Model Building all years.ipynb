{
 "cells": [
  {
   "cell_type": "code",
   "execution_count": 1,
   "id": "b725c381",
   "metadata": {},
   "outputs": [],
   "source": [
    "import matplotlib.pyplot as plt\n",
    "import pandas as pd\n",
    "import numpy as np\n",
    "from tensorflow.keras.models import Sequential\n",
    "from tensorflow.keras.layers import Dense"
   ]
  },
  {
   "cell_type": "code",
   "execution_count": 2,
   "id": "c2edf297",
   "metadata": {},
   "outputs": [
    {
     "data": {
      "text/html": [
       "<div>\n",
       "<style scoped>\n",
       "    .dataframe tbody tr th:only-of-type {\n",
       "        vertical-align: middle;\n",
       "    }\n",
       "\n",
       "    .dataframe tbody tr th {\n",
       "        vertical-align: top;\n",
       "    }\n",
       "\n",
       "    .dataframe thead th {\n",
       "        text-align: right;\n",
       "    }\n",
       "</style>\n",
       "<table border=\"1\" class=\"dataframe\">\n",
       "  <thead>\n",
       "    <tr style=\"text-align: right;\">\n",
       "      <th></th>\n",
       "      <th>Latitude</th>\n",
       "      <th>Longitude</th>\n",
       "      <th>Tur (NTU)</th>\n",
       "      <th>Ph</th>\n",
       "      <th>EC</th>\n",
       "      <th>TDS (mg-L)</th>\n",
       "      <th>Alkalinity (mg-L)</th>\n",
       "      <th>Chloride (mg-L)</th>\n",
       "      <th>Fluoride (mg-L)</th>\n",
       "      <th>Nitrate (mg-L)</th>\n",
       "      <th>Sulphate (mg-L)</th>\n",
       "      <th>Total Hardness (mg-L)</th>\n",
       "      <th>Iron (mg-L)</th>\n",
       "      <th>Remark</th>\n",
       "      <th>Monsoon</th>\n",
       "    </tr>\n",
       "  </thead>\n",
       "  <tbody>\n",
       "    <tr>\n",
       "      <th>0</th>\n",
       "      <td>18.136968</td>\n",
       "      <td>74.462032</td>\n",
       "      <td>35.30</td>\n",
       "      <td>7.78</td>\n",
       "      <td>456.923077</td>\n",
       "      <td>297.0</td>\n",
       "      <td>20.0</td>\n",
       "      <td>148.46</td>\n",
       "      <td>0.000</td>\n",
       "      <td>1.890</td>\n",
       "      <td>5.528</td>\n",
       "      <td>117.6</td>\n",
       "      <td>0.300</td>\n",
       "      <td>0</td>\n",
       "      <td>1</td>\n",
       "    </tr>\n",
       "    <tr>\n",
       "      <th>1</th>\n",
       "      <td>18.136968</td>\n",
       "      <td>74.462032</td>\n",
       "      <td>5.96</td>\n",
       "      <td>7.59</td>\n",
       "      <td>375.384615</td>\n",
       "      <td>244.0</td>\n",
       "      <td>20.0</td>\n",
       "      <td>39.59</td>\n",
       "      <td>0.237</td>\n",
       "      <td>1.529</td>\n",
       "      <td>3.864</td>\n",
       "      <td>151.2</td>\n",
       "      <td>0.290</td>\n",
       "      <td>0</td>\n",
       "      <td>1</td>\n",
       "    </tr>\n",
       "    <tr>\n",
       "      <th>2</th>\n",
       "      <td>18.136968</td>\n",
       "      <td>74.462032</td>\n",
       "      <td>33.90</td>\n",
       "      <td>8.02</td>\n",
       "      <td>553.846154</td>\n",
       "      <td>360.0</td>\n",
       "      <td>20.0</td>\n",
       "      <td>178.12</td>\n",
       "      <td>0.000</td>\n",
       "      <td>1.841</td>\n",
       "      <td>6.013</td>\n",
       "      <td>117.6</td>\n",
       "      <td>0.415</td>\n",
       "      <td>0</td>\n",
       "      <td>1</td>\n",
       "    </tr>\n",
       "    <tr>\n",
       "      <th>3</th>\n",
       "      <td>18.136968</td>\n",
       "      <td>74.462032</td>\n",
       "      <td>22.70</td>\n",
       "      <td>7.78</td>\n",
       "      <td>969.230769</td>\n",
       "      <td>630.0</td>\n",
       "      <td>250.0</td>\n",
       "      <td>138.56</td>\n",
       "      <td>0.995</td>\n",
       "      <td>1.813</td>\n",
       "      <td>5.528</td>\n",
       "      <td>134.4</td>\n",
       "      <td>0.300</td>\n",
       "      <td>0</td>\n",
       "      <td>1</td>\n",
       "    </tr>\n",
       "    <tr>\n",
       "      <th>4</th>\n",
       "      <td>18.136968</td>\n",
       "      <td>74.462032</td>\n",
       "      <td>36.00</td>\n",
       "      <td>8.02</td>\n",
       "      <td>423.076923</td>\n",
       "      <td>275.0</td>\n",
       "      <td>30.0</td>\n",
       "      <td>118.77</td>\n",
       "      <td>0.058</td>\n",
       "      <td>1.833</td>\n",
       "      <td>2.986</td>\n",
       "      <td>117.6</td>\n",
       "      <td>0.300</td>\n",
       "      <td>0</td>\n",
       "      <td>1</td>\n",
       "    </tr>\n",
       "    <tr>\n",
       "      <th>...</th>\n",
       "      <td>...</td>\n",
       "      <td>...</td>\n",
       "      <td>...</td>\n",
       "      <td>...</td>\n",
       "      <td>...</td>\n",
       "      <td>...</td>\n",
       "      <td>...</td>\n",
       "      <td>...</td>\n",
       "      <td>...</td>\n",
       "      <td>...</td>\n",
       "      <td>...</td>\n",
       "      <td>...</td>\n",
       "      <td>...</td>\n",
       "      <td>...</td>\n",
       "      <td>...</td>\n",
       "    </tr>\n",
       "    <tr>\n",
       "      <th>53054</th>\n",
       "      <td>18.520430</td>\n",
       "      <td>73.856744</td>\n",
       "      <td>0.44</td>\n",
       "      <td>8.40</td>\n",
       "      <td>241.538462</td>\n",
       "      <td>157.0</td>\n",
       "      <td>20.0</td>\n",
       "      <td>29.67</td>\n",
       "      <td>0.694</td>\n",
       "      <td>1.852</td>\n",
       "      <td>0.000</td>\n",
       "      <td>47.5</td>\n",
       "      <td>0.000</td>\n",
       "      <td>1</td>\n",
       "      <td>1</td>\n",
       "    </tr>\n",
       "    <tr>\n",
       "      <th>53055</th>\n",
       "      <td>18.520430</td>\n",
       "      <td>73.856744</td>\n",
       "      <td>0.58</td>\n",
       "      <td>8.44</td>\n",
       "      <td>246.153846</td>\n",
       "      <td>160.0</td>\n",
       "      <td>20.0</td>\n",
       "      <td>19.78</td>\n",
       "      <td>0.696</td>\n",
       "      <td>2.957</td>\n",
       "      <td>6.136</td>\n",
       "      <td>85.5</td>\n",
       "      <td>0.512</td>\n",
       "      <td>1</td>\n",
       "      <td>1</td>\n",
       "    </tr>\n",
       "    <tr>\n",
       "      <th>53056</th>\n",
       "      <td>18.520430</td>\n",
       "      <td>73.856744</td>\n",
       "      <td>0.58</td>\n",
       "      <td>8.32</td>\n",
       "      <td>1076.923077</td>\n",
       "      <td>700.0</td>\n",
       "      <td>160.0</td>\n",
       "      <td>89.01</td>\n",
       "      <td>0.000</td>\n",
       "      <td>4.696</td>\n",
       "      <td>13.812</td>\n",
       "      <td>180.5</td>\n",
       "      <td>0.241</td>\n",
       "      <td>1</td>\n",
       "      <td>1</td>\n",
       "    </tr>\n",
       "    <tr>\n",
       "      <th>53057</th>\n",
       "      <td>18.520430</td>\n",
       "      <td>73.856744</td>\n",
       "      <td>0.36</td>\n",
       "      <td>8.24</td>\n",
       "      <td>546.153846</td>\n",
       "      <td>355.0</td>\n",
       "      <td>20.0</td>\n",
       "      <td>49.45</td>\n",
       "      <td>0.924</td>\n",
       "      <td>1.848</td>\n",
       "      <td>0.000</td>\n",
       "      <td>104.5</td>\n",
       "      <td>0.000</td>\n",
       "      <td>1</td>\n",
       "      <td>1</td>\n",
       "    </tr>\n",
       "    <tr>\n",
       "      <th>53058</th>\n",
       "      <td>18.520430</td>\n",
       "      <td>73.856744</td>\n",
       "      <td>0.54</td>\n",
       "      <td>8.12</td>\n",
       "      <td>566.153846</td>\n",
       "      <td>368.0</td>\n",
       "      <td>10.0</td>\n",
       "      <td>39.56</td>\n",
       "      <td>0.179</td>\n",
       "      <td>1.849</td>\n",
       "      <td>0.000</td>\n",
       "      <td>85.5</td>\n",
       "      <td>0.516</td>\n",
       "      <td>1</td>\n",
       "      <td>1</td>\n",
       "    </tr>\n",
       "  </tbody>\n",
       "</table>\n",
       "<p>53059 rows × 15 columns</p>\n",
       "</div>"
      ],
      "text/plain": [
       "        Latitude  Longitude  Tur (NTU)    Ph           EC  TDS (mg-L)  \\\n",
       "0      18.136968  74.462032      35.30  7.78   456.923077       297.0   \n",
       "1      18.136968  74.462032       5.96  7.59   375.384615       244.0   \n",
       "2      18.136968  74.462032      33.90  8.02   553.846154       360.0   \n",
       "3      18.136968  74.462032      22.70  7.78   969.230769       630.0   \n",
       "4      18.136968  74.462032      36.00  8.02   423.076923       275.0   \n",
       "...          ...        ...        ...   ...          ...         ...   \n",
       "53054  18.520430  73.856744       0.44  8.40   241.538462       157.0   \n",
       "53055  18.520430  73.856744       0.58  8.44   246.153846       160.0   \n",
       "53056  18.520430  73.856744       0.58  8.32  1076.923077       700.0   \n",
       "53057  18.520430  73.856744       0.36  8.24   546.153846       355.0   \n",
       "53058  18.520430  73.856744       0.54  8.12   566.153846       368.0   \n",
       "\n",
       "       Alkalinity (mg-L)  Chloride (mg-L)  Fluoride (mg-L)  Nitrate (mg-L)  \\\n",
       "0                   20.0           148.46            0.000           1.890   \n",
       "1                   20.0            39.59            0.237           1.529   \n",
       "2                   20.0           178.12            0.000           1.841   \n",
       "3                  250.0           138.56            0.995           1.813   \n",
       "4                   30.0           118.77            0.058           1.833   \n",
       "...                  ...              ...              ...             ...   \n",
       "53054               20.0            29.67            0.694           1.852   \n",
       "53055               20.0            19.78            0.696           2.957   \n",
       "53056              160.0            89.01            0.000           4.696   \n",
       "53057               20.0            49.45            0.924           1.848   \n",
       "53058               10.0            39.56            0.179           1.849   \n",
       "\n",
       "       Sulphate (mg-L)  Total Hardness (mg-L)  Iron (mg-L)  Remark  Monsoon  \n",
       "0                5.528                  117.6        0.300       0        1  \n",
       "1                3.864                  151.2        0.290       0        1  \n",
       "2                6.013                  117.6        0.415       0        1  \n",
       "3                5.528                  134.4        0.300       0        1  \n",
       "4                2.986                  117.6        0.300       0        1  \n",
       "...                ...                    ...          ...     ...      ...  \n",
       "53054            0.000                   47.5        0.000       1        1  \n",
       "53055            6.136                   85.5        0.512       1        1  \n",
       "53056           13.812                  180.5        0.241       1        1  \n",
       "53057            0.000                  104.5        0.000       1        1  \n",
       "53058            0.000                   85.5        0.516       1        1  \n",
       "\n",
       "[53059 rows x 15 columns]"
      ]
     },
     "execution_count": 2,
     "metadata": {},
     "output_type": "execute_result"
    }
   ],
   "source": [
    "df=pd.read_excel(r\"D:\\Harsh\\Madhura Ma'am\\Cleaning\\Cleaned_all_yrs.xlsx\")\n",
    "df"
   ]
  },
  {
   "cell_type": "code",
   "execution_count": 3,
   "id": "6e6591f1",
   "metadata": {},
   "outputs": [
    {
     "data": {
      "text/plain": [
       "Index(['Latitude', 'Longitude', 'Tur (NTU)', 'Ph', 'EC', 'TDS (mg-L)',\n",
       "       'Alkalinity (mg-L)', 'Chloride (mg-L)', 'Fluoride (mg-L)',\n",
       "       'Nitrate (mg-L)', 'Sulphate (mg-L)', 'Total Hardness (mg-L)',\n",
       "       'Iron (mg-L)', 'Remark', 'Monsoon'],\n",
       "      dtype='object')"
      ]
     },
     "execution_count": 3,
     "metadata": {},
     "output_type": "execute_result"
    }
   ],
   "source": [
    "df.columns"
   ]
  },
  {
   "cell_type": "code",
   "execution_count": 4,
   "id": "d223f9f6",
   "metadata": {},
   "outputs": [],
   "source": [
    "a=['Latitude', 'Longitude']\n",
    "df.drop(a,axis=1,inplace=True)"
   ]
  },
  {
   "cell_type": "code",
   "execution_count": 5,
   "id": "53ea01f4",
   "metadata": {},
   "outputs": [
    {
     "data": {
      "text/plain": [
       "(53059, 12)"
      ]
     },
     "execution_count": 5,
     "metadata": {},
     "output_type": "execute_result"
    }
   ],
   "source": [
    "X=df.drop(columns=[\"Remark\"])\n",
    "X.shape"
   ]
  },
  {
   "cell_type": "code",
   "execution_count": 6,
   "id": "e1b633ce",
   "metadata": {},
   "outputs": [
    {
     "data": {
      "text/plain": [
       "(53059,)"
      ]
     },
     "execution_count": 6,
     "metadata": {},
     "output_type": "execute_result"
    }
   ],
   "source": [
    "Y=df['Remark']\n",
    "Y.shape"
   ]
  },
  {
   "cell_type": "code",
   "execution_count": 7,
   "id": "3e171ef2",
   "metadata": {},
   "outputs": [
    {
     "data": {
      "text/plain": [
       "(53059, 1)"
      ]
     },
     "execution_count": 7,
     "metadata": {},
     "output_type": "execute_result"
    }
   ],
   "source": [
    "Y=np.array(Y).reshape(-1,1)\n",
    "Y.shape"
   ]
  },
  {
   "cell_type": "code",
   "execution_count": 8,
   "id": "c31877f4",
   "metadata": {},
   "outputs": [],
   "source": [
    "from sklearn.model_selection import train_test_split\n",
    "Xtrain,Xtest,Ytrain,Ytest=train_test_split(X,Y,test_size=0.2,random_state=12)"
   ]
  },
  {
   "cell_type": "code",
   "execution_count": 9,
   "id": "dcfbf97a",
   "metadata": {},
   "outputs": [
    {
     "name": "stdout",
     "output_type": "stream",
     "text": [
      "(42447, 12)\n",
      "(42447, 1)\n",
      "(10612, 12)\n",
      "(10612, 1)\n"
     ]
    }
   ],
   "source": [
    "print(Xtrain.shape)\n",
    "print(Ytrain.shape)\n",
    "print(Xtest.shape)\n",
    "print(Ytest.shape)"
   ]
  },
  {
   "cell_type": "code",
   "execution_count": 10,
   "id": "413b3fa0",
   "metadata": {},
   "outputs": [],
   "source": [
    "model=Sequential()"
   ]
  },
  {
   "cell_type": "code",
   "execution_count": 11,
   "id": "56173fd3",
   "metadata": {},
   "outputs": [],
   "source": [
    "model.add(Dense(16,input_shape=(12,),activation=\"relu\"))\n",
    "model.add(Dense(32,activation=\"relu\"))\n",
    "model.add(Dense(64,activation=\"relu\"))\n",
    "model.add(Dense(32,activation=\"relu\"))\n",
    "model.add(Dense(1,activation=\"sigmoid\"))"
   ]
  },
  {
   "cell_type": "code",
   "execution_count": 12,
   "id": "1ba73869",
   "metadata": {},
   "outputs": [
    {
     "name": "stdout",
     "output_type": "stream",
     "text": [
      "Model: \"sequential\"\n",
      "_________________________________________________________________\n",
      " Layer (type)                Output Shape              Param #   \n",
      "=================================================================\n",
      " dense (Dense)               (None, 16)                208       \n",
      "                                                                 \n",
      " dense_1 (Dense)             (None, 32)                544       \n",
      "                                                                 \n",
      " dense_2 (Dense)             (None, 64)                2112      \n",
      "                                                                 \n",
      " dense_3 (Dense)             (None, 32)                2080      \n",
      "                                                                 \n",
      " dense_4 (Dense)             (None, 1)                 33        \n",
      "                                                                 \n",
      "=================================================================\n",
      "Total params: 4,977\n",
      "Trainable params: 4,977\n",
      "Non-trainable params: 0\n",
      "_________________________________________________________________\n"
     ]
    }
   ],
   "source": [
    "model.summary()"
   ]
  },
  {
   "cell_type": "code",
   "execution_count": 13,
   "id": "49b716e2",
   "metadata": {},
   "outputs": [],
   "source": [
    "model.compile(loss=\"binary_crossentropy\",optimizer=\"adam\",metrics=[\"Accuracy\"])"
   ]
  },
  {
   "cell_type": "code",
   "execution_count": 14,
   "id": "af0444b7",
   "metadata": {
    "scrolled": true
   },
   "outputs": [
    {
     "name": "stdout",
     "output_type": "stream",
     "text": [
      "Epoch 1/150\n",
      "3396/3396 [==============================] - 7s 2ms/step - loss: 0.5781 - Accuracy: 0.8032 - val_loss: 0.4255 - val_Accuracy: 0.8438\n",
      "Epoch 2/150\n",
      "3396/3396 [==============================] - 6s 2ms/step - loss: 0.3430 - Accuracy: 0.8709 - val_loss: 0.3012 - val_Accuracy: 0.8835\n",
      "Epoch 3/150\n",
      "3396/3396 [==============================] - 6s 2ms/step - loss: 0.2918 - Accuracy: 0.8937 - val_loss: 0.2599 - val_Accuracy: 0.8999\n",
      "Epoch 4/150\n",
      "3396/3396 [==============================] - 6s 2ms/step - loss: 0.2680 - Accuracy: 0.9014 - val_loss: 0.2468 - val_Accuracy: 0.9144\n",
      "Epoch 5/150\n",
      "3396/3396 [==============================] - 6s 2ms/step - loss: 0.2553 - Accuracy: 0.9065 - val_loss: 0.2508 - val_Accuracy: 0.9024\n",
      "Epoch 6/150\n",
      "3396/3396 [==============================] - 5s 1ms/step - loss: 0.2469 - Accuracy: 0.9106 - val_loss: 0.2587 - val_Accuracy: 0.9074\n",
      "Epoch 7/150\n",
      "3396/3396 [==============================] - 5s 2ms/step - loss: 0.2451 - Accuracy: 0.9115 - val_loss: 0.2278 - val_Accuracy: 0.9145\n",
      "Epoch 8/150\n",
      "3396/3396 [==============================] - 6s 2ms/step - loss: 0.2419 - Accuracy: 0.9114 - val_loss: 0.2287 - val_Accuracy: 0.9158\n",
      "Epoch 9/150\n",
      "3396/3396 [==============================] - 6s 2ms/step - loss: 0.2398 - Accuracy: 0.9136 - val_loss: 0.2267 - val_Accuracy: 0.9152\n",
      "Epoch 10/150\n",
      "3396/3396 [==============================] - 5s 2ms/step - loss: 0.2354 - Accuracy: 0.9142 - val_loss: 0.2413 - val_Accuracy: 0.9105\n",
      "Epoch 11/150\n",
      "3396/3396 [==============================] - 5s 1ms/step - loss: 0.2311 - Accuracy: 0.9164 - val_loss: 0.2201 - val_Accuracy: 0.9194\n",
      "Epoch 12/150\n",
      "3396/3396 [==============================] - 5s 1ms/step - loss: 0.2296 - Accuracy: 0.9178 - val_loss: 0.2242 - val_Accuracy: 0.9211\n",
      "Epoch 13/150\n",
      "3396/3396 [==============================] - 5s 1ms/step - loss: 0.2287 - Accuracy: 0.9175 - val_loss: 0.2362 - val_Accuracy: 0.9151\n",
      "Epoch 14/150\n",
      "3396/3396 [==============================] - 5s 1ms/step - loss: 0.2267 - Accuracy: 0.9195 - val_loss: 0.2353 - val_Accuracy: 0.9132\n",
      "Epoch 15/150\n",
      "3396/3396 [==============================] - 5s 1ms/step - loss: 0.2254 - Accuracy: 0.9189 - val_loss: 0.2128 - val_Accuracy: 0.9221\n",
      "Epoch 16/150\n",
      "3396/3396 [==============================] - 5s 1ms/step - loss: 0.2199 - Accuracy: 0.9205 - val_loss: 0.2116 - val_Accuracy: 0.9224\n",
      "Epoch 17/150\n",
      "3396/3396 [==============================] - 5s 1ms/step - loss: 0.2180 - Accuracy: 0.9219 - val_loss: 0.2151 - val_Accuracy: 0.9213\n",
      "Epoch 18/150\n",
      "3396/3396 [==============================] - 5s 1ms/step - loss: 0.2207 - Accuracy: 0.9211 - val_loss: 0.2049 - val_Accuracy: 0.9244\n",
      "Epoch 19/150\n",
      "3396/3396 [==============================] - 5s 1ms/step - loss: 0.2131 - Accuracy: 0.9234 - val_loss: 0.2035 - val_Accuracy: 0.9226\n",
      "Epoch 20/150\n",
      "3396/3396 [==============================] - 5s 1ms/step - loss: 0.2111 - Accuracy: 0.9226 - val_loss: 0.1930 - val_Accuracy: 0.9297\n",
      "Epoch 21/150\n",
      "3396/3396 [==============================] - 5s 1ms/step - loss: 0.2077 - Accuracy: 0.9255 - val_loss: 0.1915 - val_Accuracy: 0.9293\n",
      "Epoch 22/150\n",
      "3396/3396 [==============================] - 5s 1ms/step - loss: 0.2056 - Accuracy: 0.9260 - val_loss: 0.1904 - val_Accuracy: 0.9316\n",
      "Epoch 23/150\n",
      "3396/3396 [==============================] - 5s 1ms/step - loss: 0.2029 - Accuracy: 0.9258 - val_loss: 0.1939 - val_Accuracy: 0.9246\n",
      "Epoch 24/150\n",
      "3396/3396 [==============================] - 5s 1ms/step - loss: 0.1993 - Accuracy: 0.9270 - val_loss: 0.1934 - val_Accuracy: 0.9272\n",
      "Epoch 25/150\n",
      "3396/3396 [==============================] - 5s 1ms/step - loss: 0.1964 - Accuracy: 0.9282 - val_loss: 0.1856 - val_Accuracy: 0.9319\n",
      "Epoch 26/150\n",
      "3396/3396 [==============================] - 5s 1ms/step - loss: 0.1925 - Accuracy: 0.9301 - val_loss: 0.1833 - val_Accuracy: 0.9316\n",
      "Epoch 27/150\n",
      "3396/3396 [==============================] - 5s 1ms/step - loss: 0.1944 - Accuracy: 0.9296 - val_loss: 0.1821 - val_Accuracy: 0.9304\n",
      "Epoch 28/150\n",
      "3396/3396 [==============================] - 5s 1ms/step - loss: 0.1912 - Accuracy: 0.9307 - val_loss: 0.1997 - val_Accuracy: 0.9253\n",
      "Epoch 29/150\n",
      "3396/3396 [==============================] - 5s 2ms/step - loss: 0.1847 - Accuracy: 0.9319 - val_loss: 0.1922 - val_Accuracy: 0.9290\n",
      "Epoch 30/150\n",
      "3396/3396 [==============================] - 5s 2ms/step - loss: 0.1856 - Accuracy: 0.9309 - val_loss: 0.1643 - val_Accuracy: 0.9358\n",
      "Epoch 31/150\n",
      "3396/3396 [==============================] - 5s 1ms/step - loss: 0.1804 - Accuracy: 0.9328 - val_loss: 0.1860 - val_Accuracy: 0.9273\n",
      "Epoch 32/150\n",
      "3396/3396 [==============================] - 5s 1ms/step - loss: 0.1772 - Accuracy: 0.9341 - val_loss: 0.1932 - val_Accuracy: 0.9279\n",
      "Epoch 33/150\n",
      "3396/3396 [==============================] - 5s 1ms/step - loss: 0.1761 - Accuracy: 0.9349 - val_loss: 0.1762 - val_Accuracy: 0.9337\n",
      "Epoch 34/150\n",
      "3396/3396 [==============================] - 5s 1ms/step - loss: 0.1709 - Accuracy: 0.9367 - val_loss: 0.1473 - val_Accuracy: 0.9468\n",
      "Epoch 35/150\n",
      "3396/3396 [==============================] - 5s 1ms/step - loss: 0.1718 - Accuracy: 0.9370 - val_loss: 0.1864 - val_Accuracy: 0.9331\n",
      "Epoch 36/150\n",
      "3396/3396 [==============================] - 5s 1ms/step - loss: 0.1673 - Accuracy: 0.9376 - val_loss: 0.2061 - val_Accuracy: 0.9258\n",
      "Epoch 37/150\n",
      "3396/3396 [==============================] - 5s 1ms/step - loss: 0.1679 - Accuracy: 0.9377 - val_loss: 0.1441 - val_Accuracy: 0.9502\n",
      "Epoch 38/150\n",
      "3396/3396 [==============================] - 5s 1ms/step - loss: 0.1611 - Accuracy: 0.9404 - val_loss: 0.1811 - val_Accuracy: 0.9318\n",
      "Epoch 39/150\n",
      "3396/3396 [==============================] - 5s 1ms/step - loss: 0.1586 - Accuracy: 0.9408 - val_loss: 0.1590 - val_Accuracy: 0.9473\n",
      "Epoch 40/150\n",
      "3396/3396 [==============================] - 5s 1ms/step - loss: 0.1596 - Accuracy: 0.9396 - val_loss: 0.2505 - val_Accuracy: 0.9107\n",
      "Epoch 41/150\n",
      "3396/3396 [==============================] - 5s 1ms/step - loss: 0.1589 - Accuracy: 0.9407 - val_loss: 0.1699 - val_Accuracy: 0.9384\n",
      "Epoch 42/150\n",
      "3396/3396 [==============================] - 5s 1ms/step - loss: 0.1539 - Accuracy: 0.9416 - val_loss: 0.1311 - val_Accuracy: 0.9501\n",
      "Epoch 43/150\n",
      "3396/3396 [==============================] - 5s 1ms/step - loss: 0.1564 - Accuracy: 0.9424 - val_loss: 0.1435 - val_Accuracy: 0.9445\n",
      "Epoch 44/150\n",
      "3396/3396 [==============================] - 5s 1ms/step - loss: 0.1500 - Accuracy: 0.9447 - val_loss: 0.1567 - val_Accuracy: 0.9345\n",
      "Epoch 45/150\n",
      "3396/3396 [==============================] - 5s 1ms/step - loss: 0.1551 - Accuracy: 0.9415 - val_loss: 0.1350 - val_Accuracy: 0.9481\n",
      "Epoch 46/150\n",
      "3396/3396 [==============================] - 5s 1ms/step - loss: 0.1518 - Accuracy: 0.9436 - val_loss: 0.1321 - val_Accuracy: 0.9481\n",
      "Epoch 47/150\n",
      "3396/3396 [==============================] - 5s 1ms/step - loss: 0.1512 - Accuracy: 0.9426 - val_loss: 0.1762 - val_Accuracy: 0.9378\n",
      "Epoch 48/150\n",
      "3396/3396 [==============================] - 5s 2ms/step - loss: 0.1477 - Accuracy: 0.9460 - val_loss: 0.2349 - val_Accuracy: 0.9077\n",
      "Epoch 49/150\n",
      "3396/3396 [==============================] - 5s 2ms/step - loss: 0.1485 - Accuracy: 0.9428 - val_loss: 0.1679 - val_Accuracy: 0.9416\n",
      "Epoch 50/150\n",
      "3396/3396 [==============================] - 5s 1ms/step - loss: 0.1502 - Accuracy: 0.9431 - val_loss: 0.1289 - val_Accuracy: 0.9471\n",
      "Epoch 51/150\n",
      "3396/3396 [==============================] - 5s 1ms/step - loss: 0.1462 - Accuracy: 0.9456 - val_loss: 0.1242 - val_Accuracy: 0.9545\n",
      "Epoch 52/150\n",
      "3396/3396 [==============================] - 5s 1ms/step - loss: 0.1485 - Accuracy: 0.9449 - val_loss: 0.1273 - val_Accuracy: 0.9522\n",
      "Epoch 53/150\n",
      "3396/3396 [==============================] - 5s 1ms/step - loss: 0.1454 - Accuracy: 0.9456 - val_loss: 0.1549 - val_Accuracy: 0.9502\n",
      "Epoch 54/150\n",
      "3396/3396 [==============================] - 5s 1ms/step - loss: 0.1474 - Accuracy: 0.9460 - val_loss: 0.1647 - val_Accuracy: 0.9405\n",
      "Epoch 55/150\n",
      "3396/3396 [==============================] - 5s 1ms/step - loss: 0.1506 - Accuracy: 0.9446 - val_loss: 0.1292 - val_Accuracy: 0.9504\n",
      "Epoch 56/150\n",
      "3396/3396 [==============================] - 5s 1ms/step - loss: 0.1476 - Accuracy: 0.9458 - val_loss: 0.1248 - val_Accuracy: 0.9519\n",
      "Epoch 57/150\n"
     ]
    },
    {
     "name": "stdout",
     "output_type": "stream",
     "text": [
      "3396/3396 [==============================] - 5s 1ms/step - loss: 0.1466 - Accuracy: 0.9457 - val_loss: 0.1192 - val_Accuracy: 0.9536\n",
      "Epoch 58/150\n",
      "3396/3396 [==============================] - 5s 1ms/step - loss: 0.1501 - Accuracy: 0.9452 - val_loss: 0.1665 - val_Accuracy: 0.9406\n",
      "Epoch 59/150\n",
      "3396/3396 [==============================] - 5s 1ms/step - loss: 0.1474 - Accuracy: 0.9468 - val_loss: 0.1252 - val_Accuracy: 0.9499\n",
      "Epoch 60/150\n",
      "3396/3396 [==============================] - 5s 1ms/step - loss: 0.1440 - Accuracy: 0.9473 - val_loss: 0.1277 - val_Accuracy: 0.9491\n",
      "Epoch 61/150\n",
      "3396/3396 [==============================] - 5s 1ms/step - loss: 0.1402 - Accuracy: 0.9474 - val_loss: 0.1322 - val_Accuracy: 0.9485\n",
      "Epoch 62/150\n",
      "3396/3396 [==============================] - 5s 1ms/step - loss: 0.1409 - Accuracy: 0.9473 - val_loss: 0.1470 - val_Accuracy: 0.9433\n",
      "Epoch 63/150\n",
      "3396/3396 [==============================] - 5s 1ms/step - loss: 0.1457 - Accuracy: 0.9456 - val_loss: 0.1325 - val_Accuracy: 0.9491\n",
      "Epoch 64/150\n",
      "3396/3396 [==============================] - 5s 1ms/step - loss: 0.1406 - Accuracy: 0.9482 - val_loss: 0.1566 - val_Accuracy: 0.9400\n",
      "Epoch 65/150\n",
      "3396/3396 [==============================] - 5s 1ms/step - loss: 0.1376 - Accuracy: 0.9482 - val_loss: 0.1225 - val_Accuracy: 0.9527\n",
      "Epoch 66/150\n",
      "3396/3396 [==============================] - 5s 1ms/step - loss: 0.1379 - Accuracy: 0.9479 - val_loss: 0.1429 - val_Accuracy: 0.9429\n",
      "Epoch 67/150\n",
      "3396/3396 [==============================] - 5s 2ms/step - loss: 0.1428 - Accuracy: 0.9483 - val_loss: 0.1130 - val_Accuracy: 0.9571\n",
      "Epoch 68/150\n",
      "3396/3396 [==============================] - 5s 1ms/step - loss: 0.1371 - Accuracy: 0.9503 - val_loss: 0.1517 - val_Accuracy: 0.9435\n",
      "Epoch 69/150\n",
      "3396/3396 [==============================] - 5s 1ms/step - loss: 0.1356 - Accuracy: 0.9497 - val_loss: 0.1523 - val_Accuracy: 0.9395\n",
      "Epoch 70/150\n",
      "3396/3396 [==============================] - 5s 1ms/step - loss: 0.1314 - Accuracy: 0.9506 - val_loss: 0.1030 - val_Accuracy: 0.9623\n",
      "Epoch 71/150\n",
      "3396/3396 [==============================] - 5s 1ms/step - loss: 0.1358 - Accuracy: 0.9493 - val_loss: 0.1220 - val_Accuracy: 0.9538\n",
      "Epoch 72/150\n",
      "3396/3396 [==============================] - 5s 1ms/step - loss: 0.1334 - Accuracy: 0.9516 - val_loss: 0.1075 - val_Accuracy: 0.9608\n",
      "Epoch 73/150\n",
      "3396/3396 [==============================] - 5s 1ms/step - loss: 0.1360 - Accuracy: 0.9506 - val_loss: 0.1248 - val_Accuracy: 0.9524\n",
      "Epoch 74/150\n",
      "3396/3396 [==============================] - 5s 1ms/step - loss: 0.1368 - Accuracy: 0.9493 - val_loss: 0.1138 - val_Accuracy: 0.9594\n",
      "Epoch 75/150\n",
      "3396/3396 [==============================] - 5s 1ms/step - loss: 0.1447 - Accuracy: 0.9466 - val_loss: 0.2028 - val_Accuracy: 0.9249\n",
      "Epoch 76/150\n",
      "3396/3396 [==============================] - 5s 1ms/step - loss: 0.1414 - Accuracy: 0.9475 - val_loss: 0.3172 - val_Accuracy: 0.9057\n",
      "Epoch 77/150\n",
      "3396/3396 [==============================] - 5s 2ms/step - loss: 0.1298 - Accuracy: 0.9521 - val_loss: 0.1211 - val_Accuracy: 0.9594\n",
      "Epoch 78/150\n",
      "3396/3396 [==============================] - 5s 1ms/step - loss: 0.1350 - Accuracy: 0.9495 - val_loss: 0.1580 - val_Accuracy: 0.9405\n",
      "Epoch 79/150\n",
      "3396/3396 [==============================] - 5s 2ms/step - loss: 0.1357 - Accuracy: 0.9501 - val_loss: 0.1637 - val_Accuracy: 0.9369\n",
      "Epoch 80/150\n",
      "3396/3396 [==============================] - 5s 1ms/step - loss: 0.1489 - Accuracy: 0.9506 - val_loss: 0.1546 - val_Accuracy: 0.9484\n",
      "Epoch 81/150\n",
      "3396/3396 [==============================] - 5s 1ms/step - loss: 0.1390 - Accuracy: 0.9484 - val_loss: 0.1643 - val_Accuracy: 0.9405\n",
      "Epoch 82/150\n",
      "3396/3396 [==============================] - 5s 1ms/step - loss: 0.1350 - Accuracy: 0.9510 - val_loss: 0.1064 - val_Accuracy: 0.9575\n",
      "Epoch 83/150\n",
      "3396/3396 [==============================] - 5s 1ms/step - loss: 0.1355 - Accuracy: 0.9490 - val_loss: 0.1056 - val_Accuracy: 0.9585\n",
      "Epoch 84/150\n",
      "3396/3396 [==============================] - 5s 1ms/step - loss: 0.1338 - Accuracy: 0.9501 - val_loss: 0.1073 - val_Accuracy: 0.9607\n",
      "Epoch 85/150\n",
      "3396/3396 [==============================] - 5s 1ms/step - loss: 0.1271 - Accuracy: 0.9527 - val_loss: 0.1083 - val_Accuracy: 0.9580\n",
      "Epoch 86/150\n",
      "3396/3396 [==============================] - 5s 2ms/step - loss: 0.1329 - Accuracy: 0.9510 - val_loss: 0.1089 - val_Accuracy: 0.9588\n",
      "Epoch 87/150\n",
      "3396/3396 [==============================] - 5s 2ms/step - loss: 0.1316 - Accuracy: 0.9515 - val_loss: 0.1080 - val_Accuracy: 0.9601\n",
      "Epoch 88/150\n",
      "3396/3396 [==============================] - 5s 1ms/step - loss: 0.1308 - Accuracy: 0.9512 - val_loss: 0.1043 - val_Accuracy: 0.9602\n",
      "Epoch 89/150\n",
      "3396/3396 [==============================] - 5s 1ms/step - loss: 0.1346 - Accuracy: 0.9518 - val_loss: 0.1332 - val_Accuracy: 0.9558\n",
      "Epoch 90/150\n",
      "3396/3396 [==============================] - 5s 1ms/step - loss: 0.1336 - Accuracy: 0.9507 - val_loss: 0.1496 - val_Accuracy: 0.9443\n",
      "Epoch 91/150\n",
      "3396/3396 [==============================] - 5s 1ms/step - loss: 0.1331 - Accuracy: 0.9518 - val_loss: 0.1287 - val_Accuracy: 0.9494\n",
      "Epoch 92/150\n",
      "3396/3396 [==============================] - 5s 1ms/step - loss: 0.1292 - Accuracy: 0.9529 - val_loss: 0.1092 - val_Accuracy: 0.9568\n",
      "Epoch 93/150\n",
      "3396/3396 [==============================] - 5s 2ms/step - loss: 0.1312 - Accuracy: 0.9529 - val_loss: 0.1105 - val_Accuracy: 0.9564\n",
      "Epoch 94/150\n",
      "3396/3396 [==============================] - 5s 1ms/step - loss: 0.1314 - Accuracy: 0.9523 - val_loss: 0.1136 - val_Accuracy: 0.9590\n",
      "Epoch 95/150\n",
      "3396/3396 [==============================] - 5s 1ms/step - loss: 0.1376 - Accuracy: 0.9503 - val_loss: 0.1108 - val_Accuracy: 0.9562\n",
      "Epoch 96/150\n",
      "3396/3396 [==============================] - 5s 1ms/step - loss: 0.1320 - Accuracy: 0.9519 - val_loss: 0.2302 - val_Accuracy: 0.9267\n",
      "Epoch 97/150\n",
      "3396/3396 [==============================] - 5s 1ms/step - loss: 0.1473 - Accuracy: 0.9509 - val_loss: 0.1214 - val_Accuracy: 0.9597\n",
      "Epoch 98/150\n",
      "3396/3396 [==============================] - 5s 1ms/step - loss: 0.1292 - Accuracy: 0.9529 - val_loss: 0.2007 - val_Accuracy: 0.9211\n",
      "Epoch 99/150\n",
      "3396/3396 [==============================] - 5s 1ms/step - loss: 0.1317 - Accuracy: 0.9523 - val_loss: 0.1106 - val_Accuracy: 0.9565\n",
      "Epoch 100/150\n",
      "3396/3396 [==============================] - 5s 1ms/step - loss: 0.1443 - Accuracy: 0.9464 - val_loss: 0.1181 - val_Accuracy: 0.9582\n",
      "Epoch 101/150\n",
      "3396/3396 [==============================] - 5s 1ms/step - loss: 0.1288 - Accuracy: 0.9519 - val_loss: 0.1003 - val_Accuracy: 0.9620\n",
      "Epoch 102/150\n",
      "3396/3396 [==============================] - 5s 1ms/step - loss: 0.1368 - Accuracy: 0.9496 - val_loss: 0.1256 - val_Accuracy: 0.9494\n",
      "Epoch 103/150\n",
      "3396/3396 [==============================] - 5s 2ms/step - loss: 0.1270 - Accuracy: 0.9519 - val_loss: 0.1012 - val_Accuracy: 0.9594\n",
      "Epoch 104/150\n",
      "3396/3396 [==============================] - 5s 2ms/step - loss: 0.1259 - Accuracy: 0.9534 - val_loss: 0.1561 - val_Accuracy: 0.9384\n",
      "Epoch 105/150\n",
      "3396/3396 [==============================] - 5s 2ms/step - loss: 0.1297 - Accuracy: 0.9532 - val_loss: 0.1341 - val_Accuracy: 0.9524\n",
      "Epoch 106/150\n",
      "3396/3396 [==============================] - 5s 1ms/step - loss: 0.1260 - Accuracy: 0.9540 - val_loss: 0.0972 - val_Accuracy: 0.9688\n",
      "Epoch 107/150\n",
      "3396/3396 [==============================] - 5s 1ms/step - loss: 0.1256 - Accuracy: 0.9537 - val_loss: 0.1140 - val_Accuracy: 0.9535\n",
      "Epoch 108/150\n",
      "3396/3396 [==============================] - 5s 1ms/step - loss: 0.1273 - Accuracy: 0.9532 - val_loss: 0.1331 - val_Accuracy: 0.9451\n",
      "Epoch 109/150\n",
      "3396/3396 [==============================] - 5s 1ms/step - loss: 0.1280 - Accuracy: 0.9540 - val_loss: 0.1042 - val_Accuracy: 0.9587\n",
      "Epoch 110/150\n",
      "3396/3396 [==============================] - 5s 1ms/step - loss: 0.1288 - Accuracy: 0.9524 - val_loss: 0.1190 - val_Accuracy: 0.9545\n",
      "Epoch 111/150\n",
      "3396/3396 [==============================] - 5s 2ms/step - loss: 0.1280 - Accuracy: 0.9521 - val_loss: 0.1207 - val_Accuracy: 0.9527\n",
      "Epoch 112/150\n",
      "3396/3396 [==============================] - 5s 2ms/step - loss: 0.1247 - Accuracy: 0.9547 - val_loss: 0.1097 - val_Accuracy: 0.9581\n",
      "Epoch 113/150\n"
     ]
    },
    {
     "name": "stdout",
     "output_type": "stream",
     "text": [
      "3396/3396 [==============================] - 5s 1ms/step - loss: 0.1257 - Accuracy: 0.9536 - val_loss: 0.1055 - val_Accuracy: 0.9596\n",
      "Epoch 114/150\n",
      "3396/3396 [==============================] - 5s 1ms/step - loss: 0.1239 - Accuracy: 0.9545 - val_loss: 0.0985 - val_Accuracy: 0.9618\n",
      "Epoch 115/150\n",
      "3396/3396 [==============================] - 5s 2ms/step - loss: 0.1243 - Accuracy: 0.9536 - val_loss: 0.0997 - val_Accuracy: 0.9650\n",
      "Epoch 116/150\n",
      "3396/3396 [==============================] - 5s 1ms/step - loss: 0.1395 - Accuracy: 0.9494 - val_loss: 0.1586 - val_Accuracy: 0.9372\n",
      "Epoch 117/150\n",
      "3396/3396 [==============================] - 5s 1ms/step - loss: 0.1234 - Accuracy: 0.9555 - val_loss: 0.1164 - val_Accuracy: 0.9550\n",
      "Epoch 118/150\n",
      "3396/3396 [==============================] - 5s 1ms/step - loss: 0.1227 - Accuracy: 0.9544 - val_loss: 0.0972 - val_Accuracy: 0.9667\n",
      "Epoch 119/150\n",
      "3396/3396 [==============================] - 5s 1ms/step - loss: 0.1229 - Accuracy: 0.9551 - val_loss: 0.0977 - val_Accuracy: 0.9631\n",
      "Epoch 120/150\n",
      "3396/3396 [==============================] - 5s 1ms/step - loss: 0.1230 - Accuracy: 0.9543 - val_loss: 0.1069 - val_Accuracy: 0.9572\n",
      "Epoch 121/150\n",
      "3396/3396 [==============================] - 5s 2ms/step - loss: 0.1261 - Accuracy: 0.9537 - val_loss: 0.1339 - val_Accuracy: 0.9485\n",
      "Epoch 122/150\n",
      "3396/3396 [==============================] - 5s 2ms/step - loss: 0.1185 - Accuracy: 0.9562 - val_loss: 0.1910 - val_Accuracy: 0.9264\n",
      "Epoch 123/150\n",
      "3396/3396 [==============================] - 5s 1ms/step - loss: 0.1232 - Accuracy: 0.9538 - val_loss: 0.1075 - val_Accuracy: 0.9587\n",
      "Epoch 124/150\n",
      "3396/3396 [==============================] - 5s 1ms/step - loss: 0.1227 - Accuracy: 0.9548 - val_loss: 0.1160 - val_Accuracy: 0.9537\n",
      "Epoch 125/150\n",
      "3396/3396 [==============================] - 6s 2ms/step - loss: 0.1224 - Accuracy: 0.9561 - val_loss: 0.1113 - val_Accuracy: 0.9578\n",
      "Epoch 126/150\n",
      "3396/3396 [==============================] - 5s 2ms/step - loss: 0.1277 - Accuracy: 0.9525 - val_loss: 0.1899 - val_Accuracy: 0.9304\n",
      "Epoch 127/150\n",
      "3396/3396 [==============================] - 5s 1ms/step - loss: 0.1222 - Accuracy: 0.9558 - val_loss: 0.1335 - val_Accuracy: 0.9483\n",
      "Epoch 128/150\n",
      "3396/3396 [==============================] - 5s 1ms/step - loss: 0.1212 - Accuracy: 0.9544 - val_loss: 0.1116 - val_Accuracy: 0.9574\n",
      "Epoch 129/150\n",
      "3396/3396 [==============================] - 5s 2ms/step - loss: 0.1276 - Accuracy: 0.9539 - val_loss: 0.1050 - val_Accuracy: 0.9588\n",
      "Epoch 130/150\n",
      "3396/3396 [==============================] - 5s 2ms/step - loss: 0.1227 - Accuracy: 0.9534 - val_loss: 0.1077 - val_Accuracy: 0.9623\n",
      "Epoch 131/150\n",
      "3396/3396 [==============================] - 5s 2ms/step - loss: 0.1213 - Accuracy: 0.9548 - val_loss: 0.3552 - val_Accuracy: 0.9039\n",
      "Epoch 132/150\n",
      "3396/3396 [==============================] - 5s 1ms/step - loss: 0.1280 - Accuracy: 0.9550 - val_loss: 0.1318 - val_Accuracy: 0.9541\n",
      "Epoch 133/150\n",
      "3396/3396 [==============================] - 5s 1ms/step - loss: 0.1239 - Accuracy: 0.9546 - val_loss: 0.0950 - val_Accuracy: 0.9642\n",
      "Epoch 134/150\n",
      "3396/3396 [==============================] - 5s 1ms/step - loss: 0.1277 - Accuracy: 0.9526 - val_loss: 0.1260 - val_Accuracy: 0.9562\n",
      "Epoch 135/150\n",
      "3396/3396 [==============================] - 5s 1ms/step - loss: 0.1219 - Accuracy: 0.9562 - val_loss: 0.1063 - val_Accuracy: 0.9618\n",
      "Epoch 136/150\n",
      "3396/3396 [==============================] - 5s 2ms/step - loss: 0.1202 - Accuracy: 0.9562 - val_loss: 0.1116 - val_Accuracy: 0.9559\n",
      "Epoch 137/150\n",
      "3396/3396 [==============================] - 5s 1ms/step - loss: 0.1288 - Accuracy: 0.9550 - val_loss: 0.1895 - val_Accuracy: 0.9584\n",
      "Epoch 138/150\n",
      "3396/3396 [==============================] - 5s 1ms/step - loss: 0.1254 - Accuracy: 0.9549 - val_loss: 0.1280 - val_Accuracy: 0.9515\n",
      "Epoch 139/150\n",
      "3396/3396 [==============================] - 5s 1ms/step - loss: 0.1271 - Accuracy: 0.9540 - val_loss: 0.0930 - val_Accuracy: 0.9667\n",
      "Epoch 140/150\n",
      "3396/3396 [==============================] - 5s 2ms/step - loss: 0.1217 - Accuracy: 0.9546 - val_loss: 0.1260 - val_Accuracy: 0.9505\n",
      "Epoch 141/150\n",
      "3396/3396 [==============================] - 5s 2ms/step - loss: 0.1182 - Accuracy: 0.9557 - val_loss: 0.0968 - val_Accuracy: 0.9637\n",
      "Epoch 142/150\n",
      "3396/3396 [==============================] - 5s 1ms/step - loss: 0.1232 - Accuracy: 0.9544 - val_loss: 0.1688 - val_Accuracy: 0.9343\n",
      "Epoch 143/150\n",
      "3396/3396 [==============================] - 5s 1ms/step - loss: 0.1167 - Accuracy: 0.9566 - val_loss: 0.1354 - val_Accuracy: 0.9499\n",
      "Epoch 144/150\n",
      "3396/3396 [==============================] - 5s 1ms/step - loss: 0.1189 - Accuracy: 0.9562 - val_loss: 0.1222 - val_Accuracy: 0.9482\n",
      "Epoch 145/150\n",
      "3396/3396 [==============================] - 5s 1ms/step - loss: 0.1184 - Accuracy: 0.9558 - val_loss: 0.1259 - val_Accuracy: 0.9532\n",
      "Epoch 146/150\n",
      "3396/3396 [==============================] - 5s 1ms/step - loss: 0.1205 - Accuracy: 0.9560 - val_loss: 0.1842 - val_Accuracy: 0.9320\n",
      "Epoch 147/150\n",
      "3396/3396 [==============================] - 5s 2ms/step - loss: 0.1148 - Accuracy: 0.9577 - val_loss: 0.0959 - val_Accuracy: 0.9597\n",
      "Epoch 148/150\n",
      "3396/3396 [==============================] - 5s 2ms/step - loss: 0.1251 - Accuracy: 0.9544 - val_loss: 0.1889 - val_Accuracy: 0.9237\n",
      "Epoch 149/150\n",
      "3396/3396 [==============================] - 5s 2ms/step - loss: 0.1214 - Accuracy: 0.9551 - val_loss: 0.1109 - val_Accuracy: 0.9607\n",
      "Epoch 150/150\n",
      "3396/3396 [==============================] - 5s 1ms/step - loss: 0.1192 - Accuracy: 0.9562 - val_loss: 0.1000 - val_Accuracy: 0.9594\n"
     ]
    }
   ],
   "source": [
    "cache=model.fit(Xtrain,Ytrain,batch_size=10,epochs=150,validation_split=0.2)"
   ]
  },
  {
   "cell_type": "code",
   "execution_count": 15,
   "id": "ac5ccc93",
   "metadata": {},
   "outputs": [
    {
     "name": "stdout",
     "output_type": "stream",
     "text": [
      "1327/1327 [==============================] - 2s 1ms/step - loss: 0.1003 - Accuracy: 0.9620\n"
     ]
    },
    {
     "data": {
      "text/plain": [
       "[0.10030287504196167, 0.9619525671005249]"
      ]
     },
     "execution_count": 15,
     "metadata": {},
     "output_type": "execute_result"
    }
   ],
   "source": [
    "model.evaluate(Xtrain,Ytrain)"
   ]
  },
  {
   "cell_type": "code",
   "execution_count": 16,
   "id": "d6ca99c4",
   "metadata": {},
   "outputs": [
    {
     "name": "stdout",
     "output_type": "stream",
     "text": [
      "332/332 [==============================] - 0s 1ms/step - loss: 0.1076 - Accuracy: 0.9609\n"
     ]
    },
    {
     "data": {
      "text/plain": [
       "[0.10757914185523987, 0.9608933329582214]"
      ]
     },
     "execution_count": 16,
     "metadata": {},
     "output_type": "execute_result"
    }
   ],
   "source": [
    "model.evaluate(Xtest,Ytest)"
   ]
  },
  {
   "cell_type": "code",
   "execution_count": 17,
   "id": "9e276610",
   "metadata": {},
   "outputs": [
    {
     "name": "stdout",
     "output_type": "stream",
     "text": [
      "332/332 [==============================] - 1s 1ms/step\n"
     ]
    }
   ],
   "source": [
    "pred=model.predict(Xtest)"
   ]
  },
  {
   "cell_type": "code",
   "execution_count": 18,
   "id": "949bd490",
   "metadata": {},
   "outputs": [
    {
     "data": {
      "text/plain": [
       "array([[6.9726247e-01],\n",
       "       [9.7830151e-04],\n",
       "       [4.2190880e-02],\n",
       "       ...,\n",
       "       [9.9505663e-01],\n",
       "       [9.9536884e-01],\n",
       "       [3.7866663e-02]], dtype=float32)"
      ]
     },
     "execution_count": 18,
     "metadata": {},
     "output_type": "execute_result"
    }
   ],
   "source": [
    "pred"
   ]
  },
  {
   "cell_type": "code",
   "execution_count": 19,
   "id": "9b0c5de6",
   "metadata": {},
   "outputs": [],
   "source": [
    "predi=[]\n",
    "for i in pred:\n",
    "    if(i>0.5):\n",
    "        predi.append(1)\n",
    "    else:\n",
    "        predi.append(0)"
   ]
  },
  {
   "cell_type": "code",
   "execution_count": 20,
   "id": "8c02ef49",
   "metadata": {},
   "outputs": [
    {
     "data": {
      "text/html": [
       "<div>\n",
       "<style scoped>\n",
       "    .dataframe tbody tr th:only-of-type {\n",
       "        vertical-align: middle;\n",
       "    }\n",
       "\n",
       "    .dataframe tbody tr th {\n",
       "        vertical-align: top;\n",
       "    }\n",
       "\n",
       "    .dataframe thead th {\n",
       "        text-align: right;\n",
       "    }\n",
       "</style>\n",
       "<table border=\"1\" class=\"dataframe\">\n",
       "  <thead>\n",
       "    <tr style=\"text-align: right;\">\n",
       "      <th></th>\n",
       "      <th>Actual</th>\n",
       "      <th>Pred</th>\n",
       "    </tr>\n",
       "  </thead>\n",
       "  <tbody>\n",
       "    <tr>\n",
       "      <th>0</th>\n",
       "      <td>1</td>\n",
       "      <td>1</td>\n",
       "    </tr>\n",
       "    <tr>\n",
       "      <th>1</th>\n",
       "      <td>0</td>\n",
       "      <td>0</td>\n",
       "    </tr>\n",
       "    <tr>\n",
       "      <th>2</th>\n",
       "      <td>0</td>\n",
       "      <td>0</td>\n",
       "    </tr>\n",
       "    <tr>\n",
       "      <th>3</th>\n",
       "      <td>1</td>\n",
       "      <td>1</td>\n",
       "    </tr>\n",
       "    <tr>\n",
       "      <th>4</th>\n",
       "      <td>1</td>\n",
       "      <td>1</td>\n",
       "    </tr>\n",
       "    <tr>\n",
       "      <th>...</th>\n",
       "      <td>...</td>\n",
       "      <td>...</td>\n",
       "    </tr>\n",
       "    <tr>\n",
       "      <th>10607</th>\n",
       "      <td>1</td>\n",
       "      <td>1</td>\n",
       "    </tr>\n",
       "    <tr>\n",
       "      <th>10608</th>\n",
       "      <td>1</td>\n",
       "      <td>1</td>\n",
       "    </tr>\n",
       "    <tr>\n",
       "      <th>10609</th>\n",
       "      <td>1</td>\n",
       "      <td>1</td>\n",
       "    </tr>\n",
       "    <tr>\n",
       "      <th>10610</th>\n",
       "      <td>1</td>\n",
       "      <td>1</td>\n",
       "    </tr>\n",
       "    <tr>\n",
       "      <th>10611</th>\n",
       "      <td>0</td>\n",
       "      <td>0</td>\n",
       "    </tr>\n",
       "  </tbody>\n",
       "</table>\n",
       "<p>10612 rows × 2 columns</p>\n",
       "</div>"
      ],
      "text/plain": [
       "       Actual  Pred\n",
       "0           1     1\n",
       "1           0     0\n",
       "2           0     0\n",
       "3           1     1\n",
       "4           1     1\n",
       "...       ...   ...\n",
       "10607       1     1\n",
       "10608       1     1\n",
       "10609       1     1\n",
       "10610       1     1\n",
       "10611       0     0\n",
       "\n",
       "[10612 rows x 2 columns]"
      ]
     },
     "execution_count": 20,
     "metadata": {},
     "output_type": "execute_result"
    }
   ],
   "source": [
    "predictions=pd.DataFrame({\"Actual\":Ytest.flatten(),\"Pred\":predi})\n",
    "predictions"
   ]
  },
  {
   "cell_type": "code",
   "execution_count": 21,
   "id": "1eebc892",
   "metadata": {},
   "outputs": [
    {
     "data": {
      "image/png": "[encoded data removed]",
      "text/plain": [
       "<Figure size 640x480 with 1 Axes>"
      ]
     },
     "metadata": {},
     "output_type": "display_data"
    }
   ],
   "source": [
    "plt.plot(cache.history[\"Accuracy\"])\n",
    "plt.plot(cache.history[\"val_Accuracy\"])\n",
    "plt.title(\"Model Accuracy\")\n",
    "plt.ylabel(\"Accuracy\")\n",
    "plt.xlabel(\"Epoch\")\n",
    "plt.legend([\"Train\",\"Test\"],loc=\"upper left\")\n",
    "plt.show()"
   ]
  },
  {
   "cell_type": "code",
   "execution_count": 22,
   "id": "1e20b5fa",
   "metadata": {},
   "outputs": [
    {
     "data": {
      "image/png": "[encoded data removed]",
      "text/plain": [
       "<Figure size 640x480 with 1 Axes>"
      ]
     },
     "metadata": {},
     "output_type": "display_data"
    }
   ],
   "source": [
    "plt.plot(cache.history[\"loss\"])\n",
    "plt.plot(cache.history[\"val_loss\"])\n",
    "plt.title(\"Model Loss\")\n",
    "plt.ylabel(\"Loss\")\n",
    "plt.xlabel(\"Epoch\")\n",
    "plt.legend([\"Train\",\"Test\"],loc=\"upper left\")\n",
    "plt.show()"
   ]
  },
  {
   "cell_type": "code",
   "execution_count": 23,
   "id": "38d7a2f0",
   "metadata": {},
   "outputs": [],
   "source": [
    "model.save(r\"D:\\Harsh\\Madhura Ma'am\\GWQ.h5\")"
   ]
  },
  {
   "cell_type": "code",
   "execution_count": 24,
   "id": "184d4d4c",
   "metadata": {},
   "outputs": [
    {
     "data": {
      "text/plain": [
       "array([[1791,  299],\n",
       "       [ 116, 8406]], dtype=int64)"
      ]
     },
     "execution_count": 24,
     "metadata": {},
     "output_type": "execute_result"
    }
   ],
   "source": [
    "from sklearn.metrics import confusion_matrix,classification_report\n",
    "matrix=confusion_matrix(Ytest,predi)\n",
    "matrix"
   ]
  },
  {
   "cell_type": "code",
   "execution_count": 25,
   "id": "e76260d1",
   "metadata": {},
   "outputs": [
    {
     "data": {
      "text/plain": [
       "<AxesSubplot: >"
      ]
     },
     "execution_count": 25,
     "metadata": {},
     "output_type": "execute_result"
    },
    {
     "data": {
      "image/png": "[encoded data removed]",
      "text/plain": [
       "<Figure size 640x480 with 2 Axes>"
      ]
     },
     "metadata": {},
     "output_type": "display_data"
    }
   ],
   "source": [
    "import seaborn as sns\n",
    "sns.heatmap(matrix, cmap=\"Blues\", annot=True)"
   ]
  },
  {
   "cell_type": "code",
   "execution_count": 26,
   "id": "a80b0ad6",
   "metadata": {},
   "outputs": [
    {
     "name": "stdout",
     "output_type": "stream",
     "text": [
      "              precision    recall  f1-score   support\n",
      "\n",
      "           0       0.94      0.86      0.90      2090\n",
      "           1       0.97      0.99      0.98      8522\n",
      "\n",
      "    accuracy                           0.96     10612\n",
      "   macro avg       0.95      0.92      0.94     10612\n",
      "weighted avg       0.96      0.96      0.96     10612\n",
      "\n"
     ]
    }
   ],
   "source": [
    "print(classification_report(Ytest,predi))"
   ]
  },
  {
   "cell_type": "code",
   "execution_count": null,
   "id": "8633544f",
   "metadata": {},
   "outputs": [],
   "source": []
  },
  {
   "cell_type": "code",
   "execution_count": null,
   "id": "ba110318",
   "metadata": {},
   "outputs": [],
   "source": []
  },
  {
   "cell_type": "code",
   "execution_count": null,
   "id": "b2ce7f75",
   "metadata": {},
   "outputs": [],
   "source": []
  },
  {
   "cell_type": "code",
   "execution_count": null,
   "id": "3c743f79",
   "metadata": {},
   "outputs": [],
   "source": []
  },
  {
   "cell_type": "code",
   "execution_count": 27,
   "id": "8791bc4e",
   "metadata": {},
   "outputs": [],
   "source": [
    "from sklearn.linear_model import LogisticRegression"
   ]
  },
  {
   "cell_type": "code",
   "execution_count": 28,
   "id": "93ef0c16",
   "metadata": {},
   "outputs": [
    {
     "name": "stderr",
     "output_type": "stream",
     "text": [
      "C:\\Users\\harsh\\anaconda3\\envs\\advpy\\lib\\site-packages\\sklearn\\utils\\validation.py:1141: DataConversionWarning: A column-vector y was passed when a 1d array was expected. Please change the shape of y to (n_samples, ), for example using ravel().\n",
      "  y = column_or_1d(y, warn=True)\n",
      "C:\\Users\\harsh\\anaconda3\\envs\\advpy\\lib\\site-packages\\sklearn\\linear_model\\_logistic.py:458: ConvergenceWarning: lbfgs failed to converge (status=1):\n",
      "STOP: TOTAL NO. of ITERATIONS REACHED LIMIT.\n",
      "\n",
      "Increase the number of iterations (max_iter) or scale the data as shown in:\n",
      "    https://scikit-learn.org/stable/modules/preprocessing.html\n",
      "Please also refer to the documentation for alternative solver options:\n",
      "    https://scikit-learn.org/stable/modules/linear_model.html#logistic-regression\n",
      "  n_iter_i = _check_optimize_result(\n"
     ]
    }
   ],
   "source": [
    "model1=LogisticRegression().fit(Xtrain,Ytrain)"
   ]
  },
  {
   "cell_type": "code",
   "execution_count": 29,
   "id": "0b00a8ae",
   "metadata": {},
   "outputs": [
    {
     "name": "stdout",
     "output_type": "stream",
     "text": [
      "[0.06103984]\n",
      "[[-0.05032538  0.35343439 -0.00202071  0.0032263  -0.00301592 -0.00214886\n",
      "  -0.03511767 -0.03233997 -0.00289695  0.00068579  0.00120445  0.06018183]]\n"
     ]
    }
   ],
   "source": [
    "print(model1.intercept_)\n",
    "print(model1.coef_)"
   ]
  },
  {
   "cell_type": "code",
   "execution_count": 30,
   "id": "48e89702",
   "metadata": {},
   "outputs": [
    {
     "data": {
      "text/plain": [
       "array([[0.31159095, 0.68840905],\n",
       "       [0.04993239, 0.95006761],\n",
       "       [0.52773537, 0.47226463],\n",
       "       ...,\n",
       "       [0.13328925, 0.86671075],\n",
       "       [0.18988201, 0.81011799],\n",
       "       [0.68214507, 0.31785493]])"
      ]
     },
     "execution_count": 30,
     "metadata": {},
     "output_type": "execute_result"
    }
   ],
   "source": [
    "model1.predict_proba(Xtest)"
   ]
  },
  {
   "cell_type": "code",
   "execution_count": 31,
   "id": "fe30d137",
   "metadata": {},
   "outputs": [],
   "source": [
    "y_pred=model1.predict(Xtest)"
   ]
  },
  {
   "cell_type": "code",
   "execution_count": 32,
   "id": "12f43882",
   "metadata": {},
   "outputs": [
    {
     "data": {
      "text/plain": [
       "array([1, 1, 0, ..., 1, 1, 0], dtype=int64)"
      ]
     },
     "execution_count": 32,
     "metadata": {},
     "output_type": "execute_result"
    }
   ],
   "source": [
    "y_pred"
   ]
  },
  {
   "cell_type": "code",
   "execution_count": 33,
   "id": "507571fd",
   "metadata": {},
   "outputs": [
    {
     "data": {
      "text/plain": [
       "0.8573313230305315"
      ]
     },
     "execution_count": 33,
     "metadata": {},
     "output_type": "execute_result"
    }
   ],
   "source": [
    "model1.score(Xtest,Ytest)"
   ]
  },
  {
   "cell_type": "code",
   "execution_count": 34,
   "id": "ea37b2b1",
   "metadata": {},
   "outputs": [
    {
     "data": {
      "text/plain": [
       "array([[ 639, 1451],\n",
       "       [  63, 8459]], dtype=int64)"
      ]
     },
     "execution_count": 34,
     "metadata": {},
     "output_type": "execute_result"
    }
   ],
   "source": [
    "matrix1=confusion_matrix(Ytest,y_pred)\n",
    "matrix1"
   ]
  },
  {
   "cell_type": "code",
   "execution_count": 35,
   "id": "140484de",
   "metadata": {},
   "outputs": [
    {
     "data": {
      "text/plain": [
       "<AxesSubplot: >"
      ]
     },
     "execution_count": 35,
     "metadata": {},
     "output_type": "execute_result"
    },
    {
     "data": {
      "image/png": "[encoded data removed]",
      "text/plain": [
       "<Figure size 640x480 with 2 Axes>"
      ]
     },
     "metadata": {},
     "output_type": "display_data"
    }
   ],
   "source": [
    "import seaborn as sns\n",
    "sns.heatmap(matrix1, cmap=\"Blues\", annot=True)"
   ]
  },
  {
   "cell_type": "code",
   "execution_count": 36,
   "id": "ed012e0e",
   "metadata": {
    "scrolled": true
   },
   "outputs": [
    {
     "name": "stdout",
     "output_type": "stream",
     "text": [
      "              precision    recall  f1-score   support\n",
      "\n",
      "           0       0.91      0.31      0.46      2090\n",
      "           1       0.85      0.99      0.92      8522\n",
      "\n",
      "    accuracy                           0.86     10612\n",
      "   macro avg       0.88      0.65      0.69     10612\n",
      "weighted avg       0.86      0.86      0.83     10612\n",
      "\n"
     ]
    }
   ],
   "source": [
    "print(classification_report(Ytest,y_pred))"
   ]
  },
  {
   "cell_type": "code",
   "execution_count": null,
   "id": "522c6c2e",
   "metadata": {},
   "outputs": [],
   "source": []
  },
  {
   "cell_type": "code",
   "execution_count": null,
   "id": "3a88daa3",
   "metadata": {},
   "outputs": [],
   "source": []
  },
  {
   "cell_type": "code",
   "execution_count": null,
   "id": "24052b06",
   "metadata": {},
   "outputs": [],
   "source": []
  },
  {
   "cell_type": "code",
   "execution_count": null,
   "id": "492577e0",
   "metadata": {},
   "outputs": [],
   "source": []
  },
  {
   "cell_type": "code",
   "execution_count": 37,
   "id": "fe327596",
   "metadata": {},
   "outputs": [
    {
     "name": "stderr",
     "output_type": "stream",
     "text": [
      "C:\\Users\\harsh\\AppData\\Local\\Temp\\ipykernel_20256\\3190147769.py:10: DataConversionWarning: A column-vector y was passed when a 1d array was expected. Please change the shape of y to (n_samples,), for example using ravel().\n",
      "  model2.fit(Xtrain, Ytrain)\n"
     ]
    },
    {
     "data": {
      "text/html": [
       "<style>#sk-container-id-1 {color: black;background-color: white;}#sk-container-id-1 pre{padding: 0;}#sk-container-id-1 div.sk-toggleable {background-color: white;}#sk-container-id-1 label.sk-toggleable__label {cursor: pointer;display: block;width: 100%;margin-bottom: 0;padding: 0.3em;box-sizing: border-box;text-align: center;}#sk-container-id-1 label.sk-toggleable__label-arrow:before {content: \"▸\";float: left;margin-right: 0.25em;color: #696969;}#sk-container-id-1 label.sk-toggleable__label-arrow:hover:before {color: black;}#sk-container-id-1 div.sk-estimator:hover label.sk-toggleable__label-arrow:before {color: black;}#sk-container-id-1 div.sk-toggleable__content {max-height: 0;max-width: 0;overflow: hidden;text-align: left;background-color: #f0f8ff;}#sk-container-id-1 div.sk-toggleable__content pre {margin: 0.2em;color: black;border-radius: 0.25em;background-color: #f0f8ff;}#sk-container-id-1 input.sk-toggleable__control:checked~div.sk-toggleable__content {max-height: 200px;max-width: 100%;overflow: auto;}#sk-container-id-1 input.sk-toggleable__control:checked~label.sk-toggleable__label-arrow:before {content: \"▾\";}#sk-container-id-1 div.sk-estimator input.sk-toggleable__control:checked~label.sk-toggleable__label {background-color: #d4ebff;}#sk-container-id-1 div.sk-label input.sk-toggleable__control:checked~label.sk-toggleable__label {background-color: #d4ebff;}#sk-container-id-1 input.sk-hidden--visually {border: 0;clip: rect(1px 1px 1px 1px);clip: rect(1px, 1px, 1px, 1px);height: 1px;margin: -1px;overflow: hidden;padding: 0;position: absolute;width: 1px;}#sk-container-id-1 div.sk-estimator {font-family: monospace;background-color: #f0f8ff;border: 1px dotted black;border-radius: 0.25em;box-sizing: border-box;margin-bottom: 0.5em;}#sk-container-id-1 div.sk-estimator:hover {background-color: #d4ebff;}#sk-container-id-1 div.sk-parallel-item::after {content: \"\";width: 100%;border-bottom: 1px solid gray;flex-grow: 1;}#sk-container-id-1 div.sk-label:hover label.sk-toggleable__label {background-color: #d4ebff;}#sk-container-id-1 div.sk-serial::before {content: \"\";position: absolute;border-left: 1px solid gray;box-sizing: border-box;top: 0;bottom: 0;left: 50%;z-index: 0;}#sk-container-id-1 div.sk-serial {display: flex;flex-direction: column;align-items: center;background-color: white;padding-right: 0.2em;padding-left: 0.2em;position: relative;}#sk-container-id-1 div.sk-item {position: relative;z-index: 1;}#sk-container-id-1 div.sk-parallel {display: flex;align-items: stretch;justify-content: center;background-color: white;position: relative;}#sk-container-id-1 div.sk-item::before, #sk-container-id-1 div.sk-parallel-item::before {content: \"\";position: absolute;border-left: 1px solid gray;box-sizing: border-box;top: 0;bottom: 0;left: 50%;z-index: -1;}#sk-container-id-1 div.sk-parallel-item {display: flex;flex-direction: column;z-index: 1;position: relative;background-color: white;}#sk-container-id-1 div.sk-parallel-item:first-child::after {align-self: flex-end;width: 50%;}#sk-container-id-1 div.sk-parallel-item:last-child::after {align-self: flex-start;width: 50%;}#sk-container-id-1 div.sk-parallel-item:only-child::after {width: 0;}#sk-container-id-1 div.sk-dashed-wrapped {border: 1px dashed gray;margin: 0 0.4em 0.5em 0.4em;box-sizing: border-box;padding-bottom: 0.4em;background-color: white;}#sk-container-id-1 div.sk-label label {font-family: monospace;font-weight: bold;display: inline-block;line-height: 1.2em;}#sk-container-id-1 div.sk-label-container {text-align: center;}#sk-container-id-1 div.sk-container {/* jupyter's `normalize.less` sets `[hidden] { display: none; }` but bootstrap.min.css set `[hidden] { display: none !important; }` so we also need the `!important` here to be able to override the default hidden behavior on the sphinx rendered scikit-learn.org. See: https://github.com/scikit-learn/scikit-learn/issues/21755 */display: inline-block !important;position: relative;}#sk-container-id-1 div.sk-text-repr-fallback {display: none;}</style><div id=\"sk-container-id-1\" class=\"sk-top-container\"><div class=\"sk-text-repr-fallback\"><pre>RandomForestClassifier(random_state=42)</pre><b>In a Jupyter environment, please rerun this cell to show the HTML representation or trust the notebook. <br />On GitHub, the HTML representation is unable to render, please try loading this page with nbviewer.org.</b></div><div class=\"sk-container\" hidden><div class=\"sk-item\"><div class=\"sk-estimator sk-toggleable\"><input class=\"sk-toggleable__control sk-hidden--visually\" id=\"sk-estimator-id-1\" type=\"checkbox\" checked><label for=\"sk-estimator-id-1\" class=\"sk-toggleable__label sk-toggleable__label-arrow\">RandomForestClassifier</label><div class=\"sk-toggleable__content\"><pre>RandomForestClassifier(random_state=42)</pre></div></div></div></div></div>"
      ],
      "text/plain": [
       "RandomForestClassifier(random_state=42)"
      ]
     },
     "execution_count": 37,
     "metadata": {},
     "output_type": "execute_result"
    }
   ],
   "source": [
    "from sklearn.ensemble import RandomForestClassifier\n",
    "from sklearn.model_selection import train_test_split\n",
    "from sklearn.metrics import accuracy_score\n",
    "from sklearn.datasets import load_iris\n",
    "\n",
    "# Create the Random Forest Classifier\n",
    "model2 = RandomForestClassifier(n_estimators=100, random_state=42)\n",
    "\n",
    "# Train the model\n",
    "model2.fit(Xtrain, Ytrain)"
   ]
  },
  {
   "cell_type": "code",
   "execution_count": 38,
   "id": "c67ff8e8",
   "metadata": {},
   "outputs": [
    {
     "data": {
      "text/plain": [
       "0.9981153411232567"
      ]
     },
     "execution_count": 38,
     "metadata": {},
     "output_type": "execute_result"
    }
   ],
   "source": [
    "model2.score(Xtest,Ytest)"
   ]
  },
  {
   "cell_type": "code",
   "execution_count": 39,
   "id": "eed506a8",
   "metadata": {},
   "outputs": [],
   "source": [
    "y_pred2=model2.predict(Xtest)"
   ]
  },
  {
   "cell_type": "code",
   "execution_count": 40,
   "id": "8a0599f3",
   "metadata": {},
   "outputs": [
    {
     "data": {
      "text/plain": [
       "array([1, 0, 0, ..., 1, 1, 0], dtype=int64)"
      ]
     },
     "execution_count": 40,
     "metadata": {},
     "output_type": "execute_result"
    }
   ],
   "source": [
    "y_pred2"
   ]
  },
  {
   "cell_type": "code",
   "execution_count": 41,
   "id": "e6a072e7",
   "metadata": {},
   "outputs": [
    {
     "data": {
      "text/plain": [
       "array([[2074,   16],\n",
       "       [   4, 8518]], dtype=int64)"
      ]
     },
     "execution_count": 41,
     "metadata": {},
     "output_type": "execute_result"
    }
   ],
   "source": [
    "matrix2=confusion_matrix(Ytest,y_pred2)\n",
    "matrix2"
   ]
  },
  {
   "cell_type": "code",
   "execution_count": 42,
   "id": "03ce41e5",
   "metadata": {},
   "outputs": [
    {
     "data": {
      "text/plain": [
       "<AxesSubplot: >"
      ]
     },
     "execution_count": 42,
     "metadata": {},
     "output_type": "execute_result"
    },
    {
     "data": {
      "image/png": "[encoded data removed]",
      "text/plain": [
       "<Figure size 640x480 with 2 Axes>"
      ]
     },
     "metadata": {},
     "output_type": "display_data"
    }
   ],
   "source": [
    "import seaborn as sns\n",
    "sns.heatmap(matrix2, cmap=\"Blues\", annot=True)"
   ]
  },
  {
   "cell_type": "code",
   "execution_count": 43,
   "id": "6e8010b2",
   "metadata": {},
   "outputs": [
    {
     "name": "stdout",
     "output_type": "stream",
     "text": [
      "              precision    recall  f1-score   support\n",
      "\n",
      "           0       1.00      0.99      1.00      2090\n",
      "           1       1.00      1.00      1.00      8522\n",
      "\n",
      "    accuracy                           1.00     10612\n",
      "   macro avg       1.00      1.00      1.00     10612\n",
      "weighted avg       1.00      1.00      1.00     10612\n",
      "\n"
     ]
    }
   ],
   "source": [
    "print(classification_report(Ytest,y_pred2))"
   ]
  },
  {
   "cell_type": "code",
   "execution_count": null,
   "id": "56497b42",
   "metadata": {},
   "outputs": [],
   "source": []
  },
  {
   "cell_type": "code",
   "execution_count": null,
   "id": "de2a4526",
   "metadata": {},
   "outputs": [],
   "source": []
  },
  {
   "cell_type": "code",
   "execution_count": null,
   "id": "edcd93cc",
   "metadata": {},
   "outputs": [],
   "source": []
  },
  {
   "cell_type": "code",
   "execution_count": null,
   "id": "2c6cc646",
   "metadata": {},
   "outputs": [],
   "source": []
  },
  {
   "cell_type": "code",
   "execution_count": 44,
   "id": "a72633bb",
   "metadata": {},
   "outputs": [
    {
     "data": {
      "text/html": [
       "<style>#sk-container-id-2 {color: black;background-color: white;}#sk-container-id-2 pre{padding: 0;}#sk-container-id-2 div.sk-toggleable {background-color: white;}#sk-container-id-2 label.sk-toggleable__label {cursor: pointer;display: block;width: 100%;margin-bottom: 0;padding: 0.3em;box-sizing: border-box;text-align: center;}#sk-container-id-2 label.sk-toggleable__label-arrow:before {content: \"▸\";float: left;margin-right: 0.25em;color: #696969;}#sk-container-id-2 label.sk-toggleable__label-arrow:hover:before {color: black;}#sk-container-id-2 div.sk-estimator:hover label.sk-toggleable__label-arrow:before {color: black;}#sk-container-id-2 div.sk-toggleable__content {max-height: 0;max-width: 0;overflow: hidden;text-align: left;background-color: #f0f8ff;}#sk-container-id-2 div.sk-toggleable__content pre {margin: 0.2em;color: black;border-radius: 0.25em;background-color: #f0f8ff;}#sk-container-id-2 input.sk-toggleable__control:checked~div.sk-toggleable__content {max-height: 200px;max-width: 100%;overflow: auto;}#sk-container-id-2 input.sk-toggleable__control:checked~label.sk-toggleable__label-arrow:before {content: \"▾\";}#sk-container-id-2 div.sk-estimator input.sk-toggleable__control:checked~label.sk-toggleable__label {background-color: #d4ebff;}#sk-container-id-2 div.sk-label input.sk-toggleable__control:checked~label.sk-toggleable__label {background-color: #d4ebff;}#sk-container-id-2 input.sk-hidden--visually {border: 0;clip: rect(1px 1px 1px 1px);clip: rect(1px, 1px, 1px, 1px);height: 1px;margin: -1px;overflow: hidden;padding: 0;position: absolute;width: 1px;}#sk-container-id-2 div.sk-estimator {font-family: monospace;background-color: #f0f8ff;border: 1px dotted black;border-radius: 0.25em;box-sizing: border-box;margin-bottom: 0.5em;}#sk-container-id-2 div.sk-estimator:hover {background-color: #d4ebff;}#sk-container-id-2 div.sk-parallel-item::after {content: \"\";width: 100%;border-bottom: 1px solid gray;flex-grow: 1;}#sk-container-id-2 div.sk-label:hover label.sk-toggleable__label {background-color: #d4ebff;}#sk-container-id-2 div.sk-serial::before {content: \"\";position: absolute;border-left: 1px solid gray;box-sizing: border-box;top: 0;bottom: 0;left: 50%;z-index: 0;}#sk-container-id-2 div.sk-serial {display: flex;flex-direction: column;align-items: center;background-color: white;padding-right: 0.2em;padding-left: 0.2em;position: relative;}#sk-container-id-2 div.sk-item {position: relative;z-index: 1;}#sk-container-id-2 div.sk-parallel {display: flex;align-items: stretch;justify-content: center;background-color: white;position: relative;}#sk-container-id-2 div.sk-item::before, #sk-container-id-2 div.sk-parallel-item::before {content: \"\";position: absolute;border-left: 1px solid gray;box-sizing: border-box;top: 0;bottom: 0;left: 50%;z-index: -1;}#sk-container-id-2 div.sk-parallel-item {display: flex;flex-direction: column;z-index: 1;position: relative;background-color: white;}#sk-container-id-2 div.sk-parallel-item:first-child::after {align-self: flex-end;width: 50%;}#sk-container-id-2 div.sk-parallel-item:last-child::after {align-self: flex-start;width: 50%;}#sk-container-id-2 div.sk-parallel-item:only-child::after {width: 0;}#sk-container-id-2 div.sk-dashed-wrapped {border: 1px dashed gray;margin: 0 0.4em 0.5em 0.4em;box-sizing: border-box;padding-bottom: 0.4em;background-color: white;}#sk-container-id-2 div.sk-label label {font-family: monospace;font-weight: bold;display: inline-block;line-height: 1.2em;}#sk-container-id-2 div.sk-label-container {text-align: center;}#sk-container-id-2 div.sk-container {/* jupyter's `normalize.less` sets `[hidden] { display: none; }` but bootstrap.min.css set `[hidden] { display: none !important; }` so we also need the `!important` here to be able to override the default hidden behavior on the sphinx rendered scikit-learn.org. See: https://github.com/scikit-learn/scikit-learn/issues/21755 */display: inline-block !important;position: relative;}#sk-container-id-2 div.sk-text-repr-fallback {display: none;}</style><div id=\"sk-container-id-2\" class=\"sk-top-container\"><div class=\"sk-text-repr-fallback\"><pre>XGBClassifier(base_score=None, booster=None, callbacks=None,\n",
       "              colsample_bylevel=None, colsample_bynode=None,\n",
       "              colsample_bytree=None, device=None, early_stopping_rounds=None,\n",
       "              enable_categorical=False, eval_metric=&#x27;mlogloss&#x27;,\n",
       "              feature_types=None, gamma=None, grow_policy=None,\n",
       "              importance_type=None, interaction_constraints=None,\n",
       "              learning_rate=None, max_bin=None, max_cat_threshold=None,\n",
       "              max_cat_to_onehot=None, max_delta_step=None, max_depth=None,\n",
       "              max_leaves=None, min_child_weight=None, missing=nan,\n",
       "              monotone_constraints=None, multi_strategy=None, n_estimators=None,\n",
       "              n_jobs=None, num_parallel_tree=None, random_state=None, ...)</pre><b>In a Jupyter environment, please rerun this cell to show the HTML representation or trust the notebook. <br />On GitHub, the HTML representation is unable to render, please try loading this page with nbviewer.org.</b></div><div class=\"sk-container\" hidden><div class=\"sk-item\"><div class=\"sk-estimator sk-toggleable\"><input class=\"sk-toggleable__control sk-hidden--visually\" id=\"sk-estimator-id-2\" type=\"checkbox\" checked><label for=\"sk-estimator-id-2\" class=\"sk-toggleable__label sk-toggleable__label-arrow\">XGBClassifier</label><div class=\"sk-toggleable__content\"><pre>XGBClassifier(base_score=None, booster=None, callbacks=None,\n",
       "              colsample_bylevel=None, colsample_bynode=None,\n",
       "              colsample_bytree=None, device=None, early_stopping_rounds=None,\n",
       "              enable_categorical=False, eval_metric=&#x27;mlogloss&#x27;,\n",
       "              feature_types=None, gamma=None, grow_policy=None,\n",
       "              importance_type=None, interaction_constraints=None,\n",
       "              learning_rate=None, max_bin=None, max_cat_threshold=None,\n",
       "              max_cat_to_onehot=None, max_delta_step=None, max_depth=None,\n",
       "              max_leaves=None, min_child_weight=None, missing=nan,\n",
       "              monotone_constraints=None, multi_strategy=None, n_estimators=None,\n",
       "              n_jobs=None, num_parallel_tree=None, random_state=None, ...)</pre></div></div></div></div></div>"
      ],
      "text/plain": [
       "XGBClassifier(base_score=None, booster=None, callbacks=None,\n",
       "              colsample_bylevel=None, colsample_bynode=None,\n",
       "              colsample_bytree=None, device=None, early_stopping_rounds=None,\n",
       "              enable_categorical=False, eval_metric='mlogloss',\n",
       "              feature_types=None, gamma=None, grow_policy=None,\n",
       "              importance_type=None, interaction_constraints=None,\n",
       "              learning_rate=None, max_bin=None, max_cat_threshold=None,\n",
       "              max_cat_to_onehot=None, max_delta_step=None, max_depth=None,\n",
       "              max_leaves=None, min_child_weight=None, missing=nan,\n",
       "              monotone_constraints=None, multi_strategy=None, n_estimators=None,\n",
       "              n_jobs=None, num_parallel_tree=None, random_state=None, ...)"
      ]
     },
     "execution_count": 44,
     "metadata": {},
     "output_type": "execute_result"
    }
   ],
   "source": [
    "import xgboost as xgb\n",
    "from sklearn.model_selection import train_test_split\n",
    "from sklearn.metrics import accuracy_score\n",
    "\n",
    "# Create the XGBoost Classifier\n",
    "model3 = xgb.XGBClassifier(use_label_encoder=False, eval_metric='mlogloss')\n",
    "\n",
    "# Train the model\n",
    "model3.fit(Xtrain, Ytrain)"
   ]
  },
  {
   "cell_type": "code",
   "execution_count": 45,
   "id": "4b1dcfaf",
   "metadata": {},
   "outputs": [
    {
     "data": {
      "text/plain": [
       "0.9952883528081418"
      ]
     },
     "execution_count": 45,
     "metadata": {},
     "output_type": "execute_result"
    }
   ],
   "source": [
    "model3.score(Xtest,Ytest)"
   ]
  },
  {
   "cell_type": "code",
   "execution_count": 46,
   "id": "bfaf7cc9",
   "metadata": {},
   "outputs": [],
   "source": [
    "y_pred3=model3.predict(Xtest)"
   ]
  },
  {
   "cell_type": "code",
   "execution_count": 47,
   "id": "aaa69354",
   "metadata": {},
   "outputs": [
    {
     "data": {
      "text/plain": [
       "array([1, 0, 0, ..., 1, 1, 0])"
      ]
     },
     "execution_count": 47,
     "metadata": {},
     "output_type": "execute_result"
    }
   ],
   "source": [
    "y_pred3"
   ]
  },
  {
   "cell_type": "code",
   "execution_count": 48,
   "id": "dddc6b7d",
   "metadata": {},
   "outputs": [
    {
     "data": {
      "text/plain": [
       "array([[2056,   34],\n",
       "       [  16, 8506]], dtype=int64)"
      ]
     },
     "execution_count": 48,
     "metadata": {},
     "output_type": "execute_result"
    }
   ],
   "source": [
    "matrix3=confusion_matrix(Ytest,y_pred3)\n",
    "matrix3"
   ]
  },
  {
   "cell_type": "code",
   "execution_count": 49,
   "id": "a1960ee6",
   "metadata": {},
   "outputs": [
    {
     "data": {
      "text/plain": [
       "<AxesSubplot: >"
      ]
     },
     "execution_count": 49,
     "metadata": {},
     "output_type": "execute_result"
    },
    {
     "data": {
      "image/png": "[encoded data removed]",
      "text/plain": [
       "<Figure size 640x480 with 2 Axes>"
      ]
     },
     "metadata": {},
     "output_type": "display_data"
    }
   ],
   "source": [
    "import seaborn as sns\n",
    "sns.heatmap(matrix3, cmap=\"Blues\", annot=True)"
   ]
  },
  {
   "cell_type": "code",
   "execution_count": 50,
   "id": "5e0da39e",
   "metadata": {},
   "outputs": [
    {
     "name": "stdout",
     "output_type": "stream",
     "text": [
      "              precision    recall  f1-score   support\n",
      "\n",
      "           0       0.99      0.98      0.99      2090\n",
      "           1       1.00      1.00      1.00      8522\n",
      "\n",
      "    accuracy                           1.00     10612\n",
      "   macro avg       0.99      0.99      0.99     10612\n",
      "weighted avg       1.00      1.00      1.00     10612\n",
      "\n"
     ]
    }
   ],
   "source": [
    "print(classification_report(Ytest,y_pred3))"
   ]
  },
  {
   "cell_type": "code",
   "execution_count": null,
   "id": "d7727d66",
   "metadata": {},
   "outputs": [],
   "source": []
  },
  {
   "cell_type": "code",
   "execution_count": null,
   "id": "c1492eda",
   "metadata": {},
   "outputs": [],
   "source": []
  },
  {
   "cell_type": "code",
   "execution_count": null,
   "id": "a0310b96",
   "metadata": {},
   "outputs": [],
   "source": []
  },
  {
   "cell_type": "code",
   "execution_count": null,
   "id": "f2430215",
   "metadata": {},
   "outputs": [],
   "source": []
  },
  {
   "cell_type": "code",
   "execution_count": 51,
   "id": "053c9621",
   "metadata": {},
   "outputs": [
    {
     "data": {
      "image/png": "[encoded data removed]",
      "text/plain": [
       "<Figure size 1000x500 with 1 Axes>"
      ]
     },
     "metadata": {},
     "output_type": "display_data"
    },
    {
     "data": {
      "image/png": "[encoded data removed]",
      "text/plain": [
       "<Figure size 1000x500 with 1 Axes>"
      ]
     },
     "metadata": {},
     "output_type": "display_data"
    }
   ],
   "source": [
    "import matplotlib.pyplot as plt\n",
    "import seaborn as sns\n",
    "\n",
    "# Assuming you have a dictionary of models and their accuracies\n",
    "accuracies = {\n",
    "    'Deep Learning': 0.96,\n",
    "    'Logistic Rgression':0.86,\n",
    "    'Random Forest': 1.00,\n",
    "    'XGBoost': 1.00\n",
    "}\n",
    "\n",
    "# Create a bar plot\n",
    "plt.figure(figsize=(10, 5))\n",
    "sns.barplot(x=list(accuracies.keys()), y=list(accuracies.values()))\n",
    "plt.xlabel('Models')\n",
    "plt.ylabel('Accuracy')\n",
    "plt.title('Bar Plot of Model Accuracies')\n",
    "plt.show()\n",
    "\n",
    "# Create a line plot\n",
    "plt.figure(figsize=(10, 5))\n",
    "sns.lineplot(x=list(accuracies.keys()), y=list(accuracies.values()), sort=False)\n",
    "plt.xlabel('Models')\n",
    "plt.ylabel('Accuracy')\n",
    "plt.title('Line Plot of Model Accuracies')\n",
    "plt.show()"
   ]
  },
  {
   "cell_type": "code",
   "execution_count": null,
   "id": "c00ce43b",
   "metadata": {},
   "outputs": [],
   "source": []
  },
  {
   "cell_type": "code",
   "execution_count": null,
   "id": "1fc0b7f3",
   "metadata": {},
   "outputs": [],
   "source": []
  },
  {
   "cell_type": "code",
   "execution_count": 52,
   "id": "407a756f",
   "metadata": {},
   "outputs": [
    {
     "data": {
      "image/png": "[encoded data removed]",
      "text/plain": [
       "<Figure size 1000x500 with 1 Axes>"
      ]
     },
     "metadata": {},
     "output_type": "display_data"
    },
    {
     "data": {
      "image/png": "[encoded data removed]",
      "text/plain": [
       "<Figure size 1000x500 with 1 Axes>"
      ]
     },
     "metadata": {},
     "output_type": "display_data"
    }
   ],
   "source": [
    "import matplotlib.pyplot as plt\n",
    "import seaborn as sns\n",
    "\n",
    "# Assuming you have a dictionary of models and their accuracies\n",
    "wrong_predictions = {\n",
    "    'Deep Learning': 415,\n",
    "    'Logistic Rgression':1514,\n",
    "    'Random Forest': 20,\n",
    "    'XGBoost': 50\n",
    "}\n",
    "\n",
    "# Create a bar plot\n",
    "plt.figure(figsize=(10, 5))\n",
    "sns.barplot(x=list(wrong_predictions.keys()), y=list(wrong_predictions.values()))\n",
    "plt.xlabel('Models')\n",
    "plt.ylabel('Accuracy')\n",
    "plt.title('Bar Plot of Model Accuracies')\n",
    "plt.show()\n",
    "\n",
    "# Create a line plot\n",
    "plt.figure(figsize=(10, 5))\n",
    "sns.lineplot(x=list(wrong_predictions.keys()), y=list(wrong_predictions.values()), sort=False)\n",
    "plt.xlabel('Models')\n",
    "plt.ylabel('Accuracy')\n",
    "plt.title('Line Plot of Model Accuracies')\n",
    "plt.show()"
   ]
  },
  {
   "cell_type": "code",
   "execution_count": null,
   "id": "c2a14480",
   "metadata": {},
   "outputs": [],
   "source": []
  },
  {
   "cell_type": "code",
   "execution_count": null,
   "id": "4ab4fe44",
   "metadata": {},
   "outputs": [],
   "source": []
  },
  {
   "cell_type": "code",
   "execution_count": null,
   "id": "964900e9",
   "metadata": {},
   "outputs": [],
   "source": []
  }
 ],
 "metadata": {
  "kernelspec": {
   "display_name": "Python 3 (ipykernel)",
   "language": "python",
   "name": "python3"
  },
  "language_info": {
   "codemirror_mode": {
    "name": "ipython",
    "version": 3
   },
   "file_extension": ".py",
   "mimetype": "text/x-python",
   "name": "python",
   "nbconvert_exporter": "python",
   "pygments_lexer": "ipython3",
   "version": "3.9.16"
  }
 },
 "nbformat": 4,
 "nbformat_minor": 5
}
